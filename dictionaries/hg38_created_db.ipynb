{
 "cells": [
  {
   "cell_type": "code",
   "execution_count": 10,
   "metadata": {},
   "outputs": [],
   "source": [
    "from Bio import SeqIO\n",
    "\n",
    "rna_dict = {}\n",
    "protein_dict = {}\n",
    "\n",
    "# RefSeq\n",
    "ref_seq_acc = {}\n",
    "with open('hg38_refseq_metadata.txt', \"r\") as handle:\n",
    "    for line in handle.readlines()[1:]:\n",
    "        tokens = line.split('\\t')\n",
    "        ref_seq_acc[tokens[5]] = tokens[4]\n",
    "        \n",
    "with open('GRCh38_latest_cds.fna', \"r\") as handle:\n",
    "    for record in SeqIO.parse(handle, \"fasta\"):\n",
    "        header = record.description\n",
    "        start_pos = header.find(\"protein_id=\")\n",
    "        end_pos = header[start_pos:].find(\"]\")\n",
    "        protein_id = header[start_pos:][:end_pos].split('=')[-1].strip()\n",
    "        try:\n",
    "            transcript_id = ref_seq_acc[protein_id]\n",
    "            rna_dict[transcript_id] = str(record.seq).strip()\n",
    "        except KeyError:\n",
    "            pass\n",
    "    \n",
    "with open('GRCh38_latest_protein.faa', \"r\") as handle:\n",
    "    for record in SeqIO.parse(handle, \"fasta\"):\n",
    "        protein_id = record.description.split()[0].strip()\n",
    "        try:\n",
    "            transcript_id = ref_seq_acc[protein_id]\n",
    "            protein_dict[transcript_id] = str(record.seq).strip()\n",
    "        except KeyError:\n",
    "            pass\n",
    "        \n",
    "# Ensembl\n",
    "with open('Homo_sapiens.GRCh38.cds.all.fa', \"r\") as handle:\n",
    "    for record in SeqIO.parse(handle, \"fasta\"):\n",
    "        transcript_id = record.description.split()[0].strip()\n",
    "        rna_dict[transcript_id] = str(record.seq).strip()\n",
    "    \n",
    "with open('Homo_sapiens.GRCh38.pep.all.fa', \"r\") as handle:\n",
    "    for record in SeqIO.parse(handle, \"fasta\"):\n",
    "        transcript_id = record.description.split()[4].split(':')[1]\n",
    "        protein_dict[transcript_id] = str(record.seq).strip()\n",
    "        \n",
    "# UCSC\n",
    "with open('knownGene_cds.fna', \"r\") as handle:\n",
    "    for record in SeqIO.parse(handle, \"fasta\"):\n",
    "        transcript_id = record.description.split()[0].split(\"_\")[-1].strip()\n",
    "        rna_dict[transcript_id] = str(record.seq).strip()\n",
    "    \n",
    "with open('knownGene_protein.faa', \"r\") as handle:\n",
    "    for record in SeqIO.parse(handle, \"fasta\"):\n",
    "        transcript_id = record.description.split()[0].strip()\n",
    "        protein_dict[transcript_id] = str(record.seq).strip()\n",
    "        \n",
    "# Write dictionaries\n",
    "with open('hg38_cDNA_DICT.dict', 'w') as handle:\n",
    "    for key,value in rna_dict.items():\n",
    "        handle.write(\"{}:{}\\n\".format(key,value))\n",
    "    \n",
    "with open('hg38_PROTEIN_DICT.dict', 'w') as handle:\n",
    "    for key,value in protein_dict.items():\n",
    "        handle.write(\"{}:{}\\n\".format(key,value))"
   ]
  },
  {
   "cell_type": "code",
   "execution_count": 17,
   "metadata": {},
   "outputs": [],
   "source": [
    "anno_var = set()\n",
    "with open(\"hg38_ensGene.txt\", \"r\") as handle:\n",
    "    for line in handle.readlines():\n",
    "        anno_var.add(line.split(\"\\t\")[1])\n",
    "        \n",
    "# Ensembl\n",
    "gencode = set()\n",
    "with open('gencode.v35.pc_transcripts.fa', \"r\") as handle:\n",
    "    for record in SeqIO.parse(handle, \"fasta\"):\n",
    "        gencode.add(record.description.split(\"|\")[0])"
   ]
  },
  {
   "cell_type": "code",
   "execution_count": 18,
   "metadata": {},
   "outputs": [
    {
     "name": "stdout",
     "output_type": "stream",
     "text": [
      "89663\n",
      "101486\n"
     ]
    }
   ],
   "source": [
    "print(len(anno_var))\n",
    "print(len(gencode))"
   ]
  },
  {
   "cell_type": "code",
   "execution_count": 19,
   "metadata": {},
   "outputs": [
    {
     "data": {
      "text/plain": [
       "46447"
      ]
     },
     "execution_count": 19,
     "metadata": {},
     "output_type": "execute_result"
    }
   ],
   "source": [
    "test1 = {}\n",
    "with open('hg38_PROTEIN_DICT.dict', 'r') as handle:\n",
    "    for line in handle.readlines():\n",
    "        tokens = line.split(\":\")\n",
    "        test1[tokens[0]] = tokens[1]\n",
    "\n",
    "len(list(set(test1.keys()).intersection(anno_var)))"
   ]
  },
  {
   "cell_type": "code",
   "execution_count": 20,
   "metadata": {},
   "outputs": [
    {
     "data": {
      "text/plain": [
       "38388"
      ]
     },
     "execution_count": 20,
     "metadata": {},
     "output_type": "execute_result"
    }
   ],
   "source": [
    "len(gencode.intersection(anno_var))"
   ]
  },
  {
   "cell_type": "code",
   "execution_count": null,
   "metadata": {},
   "outputs": [],
   "source": []
  }
 ],
 "metadata": {
  "kernelspec": {
   "display_name": "Python 3",
   "language": "python",
   "name": "python3"
  },
  "language_info": {
   "codemirror_mode": {
    "name": "ipython",
    "version": 3
   },
   "file_extension": ".py",
   "mimetype": "text/x-python",
   "name": "python",
   "nbconvert_exporter": "python",
   "pygments_lexer": "ipython3",
   "version": "3.7.0"
  }
 },
 "nbformat": 4,
 "nbformat_minor": 4
}
