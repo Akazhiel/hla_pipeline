{
 "cells": [
  {
   "cell_type": "code",
   "execution_count": 90,
   "metadata": {},
   "outputs": [],
   "source": [
    "from Bio import SeqIO\n",
    "\n",
    "rna_dict = {}\n",
    "protein_dict = {}\n",
    "\n",
    "# RefSeq\n",
    "ref_seq_acc = {}\n",
    "with open('hg19_refseq_metadata.txt', \"r\") as handle:\n",
    "    for line in handle.readlines()[1:]:\n",
    "        tokens = line.split('\\t')\n",
    "        ref_seq_acc[tokens[5]] = tokens[4]\n",
    "        \n",
    "with open('GRCh37_latest_cds.fna', \"r\") as handle:\n",
    "    for record in SeqIO.parse(handle, \"fasta\"):\n",
    "        header = record.description\n",
    "        start_pos = header.find(\"protein_id=\")\n",
    "        end_pos = header[start_pos:].find(\"]\")\n",
    "        protein_id = header[start_pos:][:end_pos].split('=')[-1].strip()\n",
    "        transcript_id = ref_seq_acc[protein_id]\n",
    "        rna_dict[transcript_id.split('.')[0]] = str(record.seq).strip()\n",
    "    \n",
    "with open('GRCh37_latest_protein.faa', \"r\") as handle:\n",
    "    for record in SeqIO.parse(handle, \"fasta\"):\n",
    "        protein_id = record.description.split()[0].strip()\n",
    "        transcript_id = ref_seq_acc[protein_id]\n",
    "        protein_dict[transcript_id.split('.')[0]] = str(record.seq).strip()\n",
    "        \n",
    "# Ensembl\n",
    "with open('Homo_sapiens.GRCh37.cds.all.fa', \"r\") as handle:\n",
    "    for record in SeqIO.parse(handle, \"fasta\"):\n",
    "        rna_dict[record.description.split()[0].split('.')[0]] = str(record.seq).strip()\n",
    "    \n",
    "with open('Homo_sapiens.GRCh37.pep.all.fa', \"r\") as handle:\n",
    "    for record in SeqIO.parse(handle, \"fasta\"):\n",
    "        protein = record.description.split()[4].split(':')[1]\n",
    "        protein_dict[protein.split('.')[0]] = str(record.seq).strip()\n",
    "        \n",
    "# UCSC\n",
    "with open('knownGene_cds.fna', \"r\") as handle:\n",
    "    for record in SeqIO.parse(handle, \"fasta\"):\n",
    "        transcript_id = record.description.split()[0].split(\"_\")[-1].strip()\n",
    "        rna_dict[transcript_id] = str(record.seq).strip()\n",
    "    \n",
    "with open('knownGene_protein.faa', \"r\") as handle:\n",
    "    for record in SeqIO.parse(handle, \"fasta\"):\n",
    "        transcript_id = record.description.split()[0].strip()\n",
    "        protein_dict[transcript_id] = str(record.seq).strip()\n",
    "        \n",
    "# Write dictionaries\n",
    "with open('hg19_cDNA_DICT.dict', 'w') as handle:\n",
    "    for key,value in rna_dict.items():\n",
    "        handle.write(\"{}:{}\\n\".format(key,value))\n",
    "    \n",
    "with open('hg19_PROTEIN_DICT.dict', 'w') as handle:\n",
    "    for key,value in protein_dict.items():\n",
    "        handle.write(\"{}:{}\\n\".format(key,value))"
   ]
  },
  {
   "cell_type": "code",
   "execution_count": 93,
   "metadata": {},
   "outputs": [],
   "source": [
    "test1 = {}\n",
    "with open('hg19_cDNA_DICT.dict', 'r') as handle:\n",
    "    for line in handle.readlines():\n",
    "        tokens = line.split(\":\")\n",
    "        test1[tokens[0]] = tokens[1]\n",
    "        \n",
    "test2 = {}\n",
    "with open('FASTA_cDNA.dict', 'r') as handle:\n",
    "    for line in handle.readlines():\n",
    "        tokens = line.split(\":\")\n",
    "        test2[tokens[0]] = tokens[1]"
   ]
  },
  {
   "cell_type": "code",
   "execution_count": 86,
   "metadata": {},
   "outputs": [
    {
     "name": "stdout",
     "output_type": "stream",
     "text": [
      "Shared 202850\n",
      "Fail at uc010pkw.1\n",
      "Fail at uc010zyf.2\n",
      "Fail at ENST00000512127\n",
      "Fail at uc004fxl.3\n",
      "Fail at uc009zfr.3\n",
      "Fail at uc002qow.2\n",
      "Fail at NM_018461\n",
      "Fail at ENST00000366617\n",
      "Fail at ENST00000497240\n",
      "Fail at uc004bfa.3\n"
     ]
    }
   ],
   "source": [
    "shared = list(set(test1.keys()).intersection(set(test2.keys())))\n",
    "print(\"Shared {}\".format(len(shared)))\n",
    "for i in [0,5,10,15,20,25,50,100,200,500,1000]:\n",
    "    key = shared[i]\n",
    "    if test1[key] != test2[key]:\n",
    "        print(\"Fail at {}\".format(key))"
   ]
  },
  {
   "cell_type": "code",
   "execution_count": 67,
   "metadata": {},
   "outputs": [],
   "source": [
    "test1 = {}\n",
    "with open('hg19_PROTEIN_DICT.dict', 'r') as handle:\n",
    "    for line in handle.readlines():\n",
    "        tokens = line.split(\":\")\n",
    "        test1[tokens[0]] = tokens[1]\n",
    "        \n",
    "test2 = {}\n",
    "with open('FASTA_AA.dict', 'r') as handle:\n",
    "    for line in handle.readlines():\n",
    "        tokens = line.split(\":\")\n",
    "        test2[tokens[0]] = tokens[1]"
   ]
  },
  {
   "cell_type": "code",
   "execution_count": 79,
   "metadata": {},
   "outputs": [
    {
     "name": "stdout",
     "output_type": "stream",
     "text": [
      "Shared 204916\n"
     ]
    }
   ],
   "source": [
    "shared = list(set(test1.keys()).intersection(set(test2.keys())))\n",
    "print(\"Shared {}\".format(len(shared)))\n",
    "for i in [0,5,10,15,20,25,50,100,200,500,1000]:\n",
    "    key = shared[i]\n",
    "    if test1[key] != test2[key]:\n",
    "        print(\"Fail at {}\".format(key))"
   ]
  },
  {
   "cell_type": "code",
   "execution_count": 87,
   "metadata": {},
   "outputs": [
    {
     "data": {
      "text/plain": [
       "'AGAGCAAATTACTTCTTCCAGAGTGCTAAATGATCCCCTGGTGCCCTGGAAAGAGACCGTTTACCTCCAAAAGTTTTGAGTATCCGAGGAGCCCAGGAGGAGGAACCCACAGACCCCCAGCTGATGCGGCTGGACAACATGCTGTTAGCGGAAGGCGTGGCGGGGCCTGAGAAGGGCGGAGGGTCGGCGGCAGCGGCGGCAGCGGCGGCGGCTTCTGGAGGGGCAGGTTCAGACAACTCAGTGGAGCATTCAGATTACAGAGCCAAACTCTCACAGATCAGACAAATCTACCATACGGAGCTGGAGAAATACGAGCAGGCCTGCAACGAGTTCACCACCCACGTGATGAATCTCCTGCGAGAGCAAAGCCGGACCAGGCCCATCTCCCCAAAGGAGATTGAGCGGATGGTCAGCATCATCCACCGCAAGTTCAGCTCCATCCAGATGCAGCTCAAGCAGAGCACGTGCGAGGCGGTGATGATCCTGCGTTCCCGATTTCTGGATGCGCGGCGGAAGAGACGGAATTTCAACAAGCAAGCGACAGAAATCCTGAATGAATATTTCTATTCCCATCTCAGCAACCCTTACCCCAGTGAGGAAGCCAAAGAGGAGTTAGCCAAGAAGTGTGGCATCACAGTCTCCCAGGTATCAAACTGGTTTGGAAATAAGCGAATCCGGTACAAGAAGAACATAGGTAAATTTCAAGAGGAAGCCAATATTTATGCTGCCAAAACAGCTGTCACTGCTACCAATGTGTCAGCCCATGGAAGCCAAGCTAACTCGCCCTCAACTCCCAACTCGGCTGGTTCTTCCAGTTCTTTTAACATGTCAAACTCTGGAGATTTGTTCATGAGCGTGCAGTCACTCAATGGGGATTCTTACCAAGGGGCCCAGGTTGGAGCCAACGTGCAATCACAGGTGGATACCCTTCGCCATGTTATCAGCCAGACAGGAGGATACAGTGATGGACTCGCAGCCAGTCAGATGTACAGTCCGCAGGGCATCAGTGAAATTGCAAGAACCTATTGATGGCTTGGATGCTCTGGTGGTGACAGCAAGTCCTCTTCTCTTGACTGAAGAAATGTCTTCCCCTATCTGAAAAGTGGCCTCTCTTCCGGAATGACACATACTGACTTTTGAAGAAGCAAAAGGATACCTGCTGGCCAGTCATATCAGCCAAAAAACTCTGGTGAGCAGTGAGTTGGCAGATGTTGCAACTGGAAGACTGTGGCATCAACAGAGCCCCAAAGCAATAATCTCTCTTTCTCTTCGCCCCCACTAATCCAGCAATCAAATAATCACTTTTAAGCATTTACTGTGCACCACCATATAACATAAAATGTGATGAATAGCTAGGTATATATATGACAACCTCTAAATTCTCAAAATATTATAATAAATTAAGAAAGCAAGAGTTGTGCATGTAAAAAGACAATTAACTACATAGGGAGAAGGCAGTGAACACATTTAGTGCATCTCCCCTGTACCGGTCACTGTGTGAGGTGCTGTACAAGTACTAATTTATCTAAT\\n'"
      ]
     },
     "execution_count": 87,
     "metadata": {},
     "output_type": "execute_result"
    }
   ],
   "source": [
    "test1['uc010pkw.1']"
   ]
  },
  {
   "cell_type": "code",
   "execution_count": 88,
   "metadata": {},
   "outputs": [
    {
     "data": {
      "text/plain": [
       "'ATGCTGTTAGCGGAAGGCGTGGCGGGGCCTGAGAAGGGCGGAGGGTCGGCGGCAGCGGCGGCAGCGGCGGCGGCTTCTGGAGGGGCAGGTTCAGACAACTCAGTGGAGCATTCAGATTACAGAGCCAAACTCTCACAGATCAGACAAATCTACCATACGGAGCTGGAGAAATACGAGCAGGCCTGCAACGAGTTCACCACCCACGTGATGAATCTCCTGCGAGAGCAAAGCCGGACCAGGCCCATCTCCCCAAAGGAGATTGAGCGGATGGTCAGCATCATCCACCGCAAGTTCAGCTCCATCCAGATGCAGCTCAAGCAGAGCACGTGCGAGGCGGTGATGATCCTGCGTTCCCGATTTCTGGATGCGCGGCGGAAGAGACGGAATTTCAACAAGCAAGCGACAGAAATCCTGAATGAATATTTCTATTCCCATCTCAGCAACCCTTACCCCAGTGAGGAAGCCAAAGAGGAGTTAGCCAAGAAGTGTGGCATCACAGTCTCCCAGGTATCAAACTGGTTTGGAAATAAGCGAATCCGGTACAAGAAGAACATAGGTAAATTTCAAGAGGAAGCCAATATTTATGCTGCCAAAACAGCTGTCACTGCTACCAATGTGTCAGCCCATGGAAGCCAAGCTAACTCGCCCTCAACTCCCAACTCGGCTGGTTCTTCCAGTTCTTTTAACATGTCAAACTCTGGAGATTTGTTCATGAGCGTGCAGTCACTCAATGGGGATTCTTACCAAGGGGCCCAGGTTGGAGCCAACGTGCAATCACAGGTGGATACCCTTCGCCATGTTATCAGCCAGACAGGAGGATACAGTGATGGACTCGCAGCCAGTCAGATGTACAGTCCGCAGGGCATCAGTGAAATTGCAAGAACCTATTGA\\n'"
      ]
     },
     "execution_count": 88,
     "metadata": {},
     "output_type": "execute_result"
    }
   ],
   "source": [
    "test2['uc010pkw.1']"
   ]
  },
  {
   "cell_type": "code",
   "execution_count": 95,
   "metadata": {},
   "outputs": [],
   "source": [
    "anno_var = set()\n",
    "with open(\"hg19_ensGene.txt\", \"r\") as handle:\n",
    "    for line in handle.readlines():\n",
    "        anno_var.add(line.split(\"\\t\")[1])\n",
    "        \n",
    "# Ensembl\n",
    "gencode = set()\n",
    "with open('gencode.v19.pc_transcripts.fa', \"r\") as handle:\n",
    "    for record in SeqIO.parse(handle, \"fasta\"):\n",
    "        gencode.add(record.description.split(\"|\")[0].split('.')[0])"
   ]
  },
  {
   "cell_type": "code",
   "execution_count": 96,
   "metadata": {},
   "outputs": [
    {
     "name": "stdout",
     "output_type": "stream",
     "text": [
      "204940\n",
      "95309\n"
     ]
    }
   ],
   "source": [
    "print(len(anno_var))\n",
    "print(len(gencode))"
   ]
  },
  {
   "cell_type": "code",
   "execution_count": 94,
   "metadata": {},
   "outputs": [
    {
     "data": {
      "text/plain": [
       "99380"
      ]
     },
     "execution_count": 94,
     "metadata": {},
     "output_type": "execute_result"
    }
   ],
   "source": [
    "len(list(set(test1.keys()).intersection(anno_var)))"
   ]
  },
  {
   "cell_type": "code",
   "execution_count": 97,
   "metadata": {},
   "outputs": [
    {
     "data": {
      "text/plain": [
       "95234"
      ]
     },
     "execution_count": 97,
     "metadata": {},
     "output_type": "execute_result"
    }
   ],
   "source": [
    "len(gencode.intersection(anno_var))"
   ]
  },
  {
   "cell_type": "code",
   "execution_count": 98,
   "metadata": {},
   "outputs": [
    {
     "data": {
      "text/plain": [
       "99380"
      ]
     },
     "execution_count": 98,
     "metadata": {},
     "output_type": "execute_result"
    }
   ],
   "source": [
    "len(list(set(test2.keys()).intersection(anno_var)))"
   ]
  },
  {
   "cell_type": "code",
   "execution_count": null,
   "metadata": {},
   "outputs": [],
   "source": []
  }
 ],
 "metadata": {
  "kernelspec": {
   "display_name": "Python 3",
   "language": "python",
   "name": "python3"
  },
  "language_info": {
   "codemirror_mode": {
    "name": "ipython",
    "version": 3
   },
   "file_extension": ".py",
   "mimetype": "text/x-python",
   "name": "python",
   "nbconvert_exporter": "python",
   "pygments_lexer": "ipython3",
   "version": "3.7.0"
  }
 },
 "nbformat": 4,
 "nbformat_minor": 4
}
